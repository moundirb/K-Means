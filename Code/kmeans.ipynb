{
 "cells": [
  {
   "cell_type": "markdown",
   "metadata": {},
   "source": [
    "**Importing the Dependencies**"
   ]
  },
  {
   "cell_type": "code",
   "execution_count": null,
   "metadata": {},
   "outputs": [],
   "source": [
    "import numpy as np  #Linear ALgebra\n",
    "import pandas as pd #data processing , CSV file I/O\n",
    "import matplotlib.pyplot as plt #visio \n",
    "import seaborn as sb  #visio\n",
    "from sklearn.cluster import KMeans #Kmeans algorithm"
   ]
  },
  {
   "cell_type": "markdown",
   "metadata": {},
   "source": [
    "**Data Collection & Analysis**"
   ]
  },
  {
   "cell_type": "code",
   "execution_count": null,
   "metadata": {},
   "outputs": [],
   "source": [
    "#Loading the data from csv file to pandas DataFrame\n",
    "custemer_data = pd.read_csv('Mall_Customers.csv')\n",
    "#first 5 rows in the dataframe\n",
    "custemer_data.head()"
   ]
  },
  {
   "cell_type": "markdown",
   "metadata": {},
   "source": [
    "*note*: spending score tell which individul buy more in the mall"
   ]
  },
  {
   "cell_type": "code",
   "execution_count": null,
   "metadata": {},
   "outputs": [],
   "source": [
    "#getting some information about the dataset\n",
    "custemer_data.info()\n",
    "# finding the number of rows and columns \n",
    "custemer_data.shape"
   ]
  },
  {
   "cell_type": "markdown",
   "metadata": {},
   "source": [
    "as we see There is no NULL values in our data set\n",
    "we can see the Data type too"
   ]
  },
  {
   "cell_type": "code",
   "execution_count": null,
   "metadata": {},
   "outputs": [],
   "source": [
    "#checking the missing values\n",
    "custemer_data.isnull().sum()"
   ]
  },
  {
   "cell_type": "markdown",
   "metadata": {},
   "source": [
    "In our case there is no missing values "
   ]
  },
  {
   "cell_type": "markdown",
   "metadata": {},
   "source": [
    "Choosing only The Annual Income Column & Spending column"
   ]
  },
  {
   "cell_type": "code",
   "execution_count": null,
   "metadata": {},
   "outputs": [],
   "source": [
    "X = custemer_data.iloc[:,[3,4]].values\n",
    "print(X)"
   ]
  },
  {
   "cell_type": "markdown",
   "metadata": {},
   "source": [
    "The first column represent the anual income and the second column represent spending score this two values that we gonna use in our clustering\n"
   ]
  },
  {
   "cell_type": "markdown",
   "metadata": {},
   "source": [
    "**Choosing the number of clusters**"
   ]
  },
  {
   "cell_type": "markdown",
   "metadata": {},
   "source": [
    "we dont know what is optimal and correct number of clusters"
   ]
  },
  {
   "cell_type": "markdown",
   "metadata": {},
   "source": [
    "we aim to determine the optimal and correct number of clusters for our dataset. To achieve this, we'll leverage the Within Clusters Sum Squares (WCSS) parameter. **WCSS** measures the sum of squared distances between each data point and the centroid of its assigned cluster"
   ]
  },
  {
   "cell_type": "markdown",
   "metadata": {},
   "source": [
    "**#Elbow Method**"
   ]
  },
  {
   "cell_type": "code",
   "execution_count": null,
   "metadata": {},
   "outputs": [],
   "source": [
    "#finding the wcss value for difrent number of clusters\n",
    "\n",
    "wcss = [] #empty list\n",
    "\n",
    " # 1 to 10 loop\n",
    "for i in range(1,11):\n",
    "  \n",
    "  #variable kmeans & k-means++ model\n",
    "  kmeans = KMeans(n_clusters=i,init='k-means++',random_state=65,n_init=10)\n",
    "  kmeans.fit(X)\n",
    "  \n",
    "  #will give us wcss values for each clusters and the value will be stored in the list\n",
    "  wcss.append(kmeans.inertia_)"
   ]
  },
  {
   "cell_type": "code",
   "execution_count": null,
   "metadata": {},
   "outputs": [],
   "source": [
    "#plot the elbow graph\n",
    "\n",
    "sb.set()\n",
    "plt.plot(range(1,11),wcss)\n",
    "plt.title('The Elbow point Graph')\n",
    "plt.xlabel('Number of Clusters')\n",
    "plt.ylabel('WCSS')\n",
    "plt.show()"
   ]
  },
  {
   "cell_type": "markdown",
   "metadata": {},
   "source": [
    "\n",
    "After analyzing the Within Clusters Sum Squares (WCSS) at various values of K, we observe a significant drop at both K=3 and K=5, resembling an elbow point. However, since there is no additional drop in the WCSS beyond K=5, we opt for this value as the **optimum** number of clusters."
   ]
  },
  {
   "cell_type": "markdown",
   "metadata": {},
   "source": [
    "**Training the k-means model**"
   ]
  },
  {
   "cell_type": "code",
   "execution_count": null,
   "metadata": {},
   "outputs": [],
   "source": [
    "kmeans = KMeans(n_clusters=5, init='k-means++', random_state=0, n_init=10)\n",
    "\n",
    "# Fit the model and get labels and cluster centers\n",
    "Y = kmeans.fit_predict(X)\n",
    "centroids = kmeans.cluster_centers_ #clusters coordinates\n",
    "final_iter = kmeans.n_iter_ #final iteration\n",
    "# Print the results\n",
    "print(\"1-Labels:\\n\", Y)\n",
    "print(\"2-Final Cluster Centers:\\n\", centroids)\n",
    "print(\"3-Number of iterations to converge:\", final_iter)\n",
    "\n",
    "#serval values just 0 to 5 represent the number of cluster"
   ]
  },
  {
   "cell_type": "markdown",
   "metadata": {},
   "source": [
    "5 clusters are : 0 1 2 3 4 "
   ]
  },
  {
   "cell_type": "markdown",
   "metadata": {},
   "source": [
    "**Visualizing all the Clusters**"
   ]
  },
  {
   "cell_type": "code",
   "execution_count": null,
   "metadata": {},
   "outputs": [],
   "source": [
    "# plotting all the clusters and their centroids\n",
    "plt.figure(figsize=(9,9))\n",
    "plt.scatter(X[Y==0,0], X[Y==0,1], s=50, c='green', label='Cluster 1')\n",
    "plt.scatter(X[Y==1,0], X[Y==1,1], s=50, c='red', label='Cluster 2')\n",
    "plt.scatter(X[Y==2,0], X[Y==2,1], s=50, c='yellow', label='Cluster 3')\n",
    "plt.scatter(X[Y==3,0], X[Y==3,1], s=50, c='blue', label='Cluster 4')\n",
    "plt.scatter(X[Y==4,0], X[Y==4,1], s=50, c='orange', label='Cluster 5')\n",
    "#plot the centroids\n",
    "plt.scatter(kmeans.cluster_centers_[:,0],kmeans.cluster_centers_[:,1],s=100, c='black',label='Centroids')\n",
    "plt.title('Customer Groups') \n",
    "plt.xlabel('Anuall Income')\n",
    "plt.ylabel('Spending Score')\n",
    "plt.show() "
   ]
  },
  {
   "cell_type": "markdown",
   "metadata": {},
   "source": [
    "Our dataset reveals five distinct customer groups with clear characteristics and minimal overlap. </br>\n",
    "To maximize marketing impact, the mall can tailor promotions for each group. </br>\n",
    "For example, targeting the \"blue\" and \"yellow\" segments with offers that align with their observed preferences and behaviors. </br>\n",
    "This personalized approach can enhance customer engagement and drive increased sales.\n"
   ]
  }
 ],
 "metadata": {
  "kernelspec": {
   "display_name": "Python 3",
   "language": "python",
   "name": "python3"
  },
  "language_info": {
   "codemirror_mode": {
    "name": "ipython",
    "version": 3
   },
   "file_extension": ".py",
   "mimetype": "text/x-python",
   "name": "python",
   "nbconvert_exporter": "python",
   "pygments_lexer": "ipython3",
   "version": "3.12.0"
  }
 },
 "nbformat": 4,
 "nbformat_minor": 2
}
